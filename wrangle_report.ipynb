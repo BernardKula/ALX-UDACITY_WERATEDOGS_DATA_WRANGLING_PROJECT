{
 "cells": [
  {
   "cell_type": "markdown",
   "metadata": {},
   "source": [
    "## Reporting: wragle_report\n"
   ]
  },
  {
   "cell_type": "markdown",
   "metadata": {},
   "source": [
    "## Data Gathering\n",
    "The project had three pieces of data which I gathered and put together for the purposes of this project\n",
    "1. The WeRateDogs Twitter archive\n",
    "2. The tweet image predictions\n",
    "3. Additional data from the Twitter API"
   ]
  },
  {
   "cell_type": "markdown",
   "metadata": {},
   "source": [
    "## Assessing Data\n",
    "In this section, I detectected and documented eight quality issues and two tidiness issue through the use of both visual assessment and programmatic assessement and are listed below.\n",
    "\n",
    "### Quality issues\n",
    "1.The retweeted_status_id, retweeted_status_user_id, and retweeted_status_timestamp columns have records which need to be dropped since retweets are essentially duplicates of the actual tweets\n",
    "\n",
    "2.The in_reply_to_status_id and in_reply_to_user_id columns have records which need to be dropped since replies are essentially responses to the actual tweets\n",
    "\n",
    "3.Most columns in all the three datasets have missing values and many columns with no value to the analysis\n",
    "\n",
    "4.Timestamp column in the twitter-archive-enhanced.csv dataset is not in datetime formart\n",
    "\n",
    "5.The rating_denominator column on the twitter-archive-enhanced.csv has some values different from the expected values of 10\n",
    "\n",
    "6.The rating_numerator column on the twitter-archive-enhanced.csv has some values higher than expected values\n",
    "\n",
    "7.The column name in the twitter-archive-enhanced.csv dataset contains words that don't appear to be names\n",
    "\n",
    "8.The rating_numerator and rating_denominator should be combined to form the rating\n",
    "\n",
    "### Tidiness issues\n",
    "1.doggo, floofer, pupper and puppo columns all refer to one variable which represents the type of dog\n",
    "\n",
    "2.The 3 pieces of datasets should be combined to form one dataset\n"
   ]
  },
  {
   "cell_type": "markdown",
   "metadata": {},
   "source": [
    "## Cleaning Data\n",
    "In this section, I handled all the above listed issues in consideration of the cleaning steps of Define, Code and Test.\n",
    "\n",
    "1.Dropped all rows with values in the retweeted_status_id, retweeted_status_user_id, and retweeted_status_timestamp columns\n",
    "\n",
    "2.Dropped all rows with values in the in_reply_to_status_id and in_reply_to_user_id columns\n",
    "\n",
    "3.Dropped all unneeded columns\n",
    "\n",
    "4.Changed column datatypes for columns with the wrong datatypes\n",
    "\n",
    "5.Regulated the values in some columns to match the expected values\n",
    "\n",
    "6.Changed the definite and indefinite articles used as names in the name column to None\n",
    "\n",
    "7.Combined the rating_numerator and rating_denominator columns to form the rating column\n",
    "\n",
    "8.Merged the four dog stages columns to form one column\n",
    "\n",
    "9.Combined all the three datasets to form one rich dataset\n"
   ]
  }
 ],
 "metadata": {
  "kernelspec": {
   "display_name": "Python 3",
   "language": "python",
   "name": "python3"
  },
  "language_info": {
   "codemirror_mode": {
    "name": "ipython",
    "version": 3
   },
   "file_extension": ".py",
   "mimetype": "text/x-python",
   "name": "python",
   "nbconvert_exporter": "python",
   "pygments_lexer": "ipython3",
   "version": "3.6.3"
  }
 },
 "nbformat": 4,
 "nbformat_minor": 2
}
